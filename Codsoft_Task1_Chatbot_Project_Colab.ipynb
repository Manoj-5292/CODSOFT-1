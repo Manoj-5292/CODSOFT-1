{
  "nbformat": 4,
  "nbformat_minor": 0,
  "metadata": {
    "colab": {
      "provenance": [],
      "authorship_tag": "ABX9TyNJbx/RD3/GV2I9aTerT1/K",
      "include_colab_link": true
    },
    "kernelspec": {
      "name": "python3",
      "display_name": "Python 3"
    },
    "language_info": {
      "name": "python"
    }
  },
  "cells": [
    {
      "cell_type": "markdown",
      "metadata": {
        "id": "view-in-github",
        "colab_type": "text"
      },
      "source": [
        "<a href=\"https://colab.research.google.com/github/virajbhutada/CODSOFT/blob/main/Codsoft_Task1_Chatbot_Project_Colab.ipynb\" target=\"_parent\"><img src=\"https://colab.research.google.com/assets/colab-badge.svg\" alt=\"Open In Colab\"/></a>"
      ]
    },
    {
      "cell_type": "markdown",
      "metadata": {
        "id": "8bQml1UXaYYz"
      },
      "source": [
        "# **Codsoft AI Internship - Sep-Oct 2023**\n",
        "# **Author: Viraj Bhutada**\n",
        "\n",
        "# Task 1: Building a Rule-Based Chatbot\n",
        "\n",
        "**Description:**\n",
        "This project showcases the implementation of a rule-based chatbot using natural language processing techniques. The chatbot responds to user queries based on predefined rules and enhances understanding of natural language processing and conversation flow.\n",
        "\n",
        "This task involves implementing the following steps:\n",
        "\n",
        "**Step 1: Import Libraries**\n",
        "\n",
        "- Import the necessary libraries, including re for regular expressions, to enable pattern                   matching in the chatbot.\n",
        "\n",
        "**Step 2: Define Predefined Rules**\n",
        "\n",
        " - Define the predefined rules for the chatbot. These rules include patterns and corresponding responses for different user inputs, such as greetings, inquiries, and goodbyes.\n",
        "\n",
        "**Step 3: Define Chatbot Function**\n",
        "\n",
        " - Create the simple_chatbot function. This function takes user input, matches it with the predefined rules using regular expressions, and returns appropriate responses based on the patterns defined earlier.\n",
        "\n",
        "**Step 4: Interactive Conversation Function and Conversation Loop**\n",
        "\n",
        "-  Implement the interactive conversation function and the conversation loop. This section allows users to interact with the chatbot. It includes the logic for exiting the conversation, restarting, and handling different user inputs within the conversation loop."
      ]
    },
    {
      "cell_type": "markdown",
      "metadata": {
        "id": "nbG_ivgmapS4"
      },
      "source": [
        "# **Step 1: Import Required Libraries**"
      ]
    },
    {
      "cell_type": "code",
      "source": [
        "# Import the 're' module for regular expressions\n",
        "import re"
      ],
      "metadata": {
        "id": "iOgXIFoyBbSA"
      },
      "execution_count": 1,
      "outputs": []
    },
    {
      "cell_type": "markdown",
      "source": [
        "# **Step 2: Define Predefined Rules**"
      ],
      "metadata": {
        "id": "H5PhNOQ4UXN6"
      }
    },
    {
      "cell_type": "code",
      "execution_count": 2,
      "metadata": {
        "id": "fAYho5fx-oX2"
      },
      "outputs": [],
      "source": [
        "# Predefined rules and responses\n",
        "rules = {\n",
        "    r'.*(hi|hello|hey|greetings).*': ['Hello!', 'Hi there!', 'Hey!'],\n",
        "    r'.*(how are you|how are you doing|what\\'s up|how\\'s it going).*': ['I am just a computer program, so I don\\'t have feelings, but I\\'m here to assist you!', 'I don\\'t have feelings, but I\\'m here and ready to help!'],\n",
        "    r'.*(bye|goodbye|see you|farewell).*': ['Goodbye!', 'See you later!', 'Have a great day!'],\n",
        "    r'.*(name|your name|who are you).*': ['I am a chatbot created by Codsoft AI Intern, Viraj N. Bhutada.'],\n",
        "    r'.*(help me|assist me).*': ['Of course! I\\'m here to help. What do you need assistance with?', 'Certainly! I can assist you. What do you need help with?'],\n",
        "    r'.*(joke|tell me a joke).*': [\n",
        "        'Sure, here\\'s a joke: Why did the chicken cross the road? To get to the other side!',\n",
        "        'Here\\'s one: Why don\\'t scientists trust atoms? Because they make up everything!',\n",
        "        'How about this one: Did you hear about the mathematician who’s afraid of negative numbers? He will stop at nothing to avoid them!'\n",
        "    ],\n",
        "    r'.*(thanks|thank you|appreciate it).*': ['You\\'re welcome!', 'No problem, happy to help!', 'Anytime!']\n",
        "}\n",
        "\n"
      ]
    },
    {
      "cell_type": "markdown",
      "source": [
        "# **Step 3: Define Chatbot Function**"
      ],
      "metadata": {
        "id": "iEeRVfHrUiLb"
      }
    },
    {
      "cell_type": "code",
      "source": [
        "# Define chatbot function\n",
        "def simple_chatbot(user_input):\n",
        "    # Matching user input with predefined rules (case-insensitive)\n",
        "    for pattern, responses in rules.items():\n",
        "        if re.match(pattern, user_input, re.IGNORECASE):\n",
        "            return responses\n",
        "\n",
        "    # Default response if no match is found\n",
        "    return ['I\\'m sorry, I didn\\'t understand that. Can you please rephrase?', 'I didn\\'t get that. Can you try again?', 'I\\'m not sure what you mean.']"
      ],
      "metadata": {
        "id": "3WKIhVz7P8hH"
      },
      "execution_count": 3,
      "outputs": []
    },
    {
      "cell_type": "markdown",
      "source": [
        "# **Step 4: Interactive Conversation Function and Conversation Loop**"
      ],
      "metadata": {
        "id": "3W6oygZ9UmUu"
      }
    },
    {
      "cell_type": "code",
      "source": [
        "# Third Code Cell (Interactive Conversation Function and Conversation Loop):\n",
        "def interactive_conversation():\n",
        "    print(\"Chatbot: Hi! How can I assist you today? (type 'exit' to end)\")\n",
        "\n",
        "    while True:\n",
        "        user_input = input(\"You: \")\n",
        "        if user_input.lower() == 'exit':\n",
        "            print(\"Chatbot: Goodbye! Have a great day!\")\n",
        "            restart = input(\"Chatbot: If you want to chat again, type 'start'. If you want to exit, type 'exit'.\\nYou: \")\n",
        "            if restart.lower() == 'start':\n",
        "                print(\"Chatbot: Let's start again!\")\n",
        "            elif restart.lower() == 'exit':\n",
        "                print(\"Chatbot: Thank you for chatting with me! I hope I was able to assist you. Have a great day!\")\n",
        "                break\n",
        "            else:\n",
        "                print(\"Chatbot: I'm sorry, I didn't understand that. Please type 'start' to chat again or 'exit' to end.\")\n",
        "        else:\n",
        "            response = simple_chatbot(user_input)\n",
        "            print(\"Chatbot:\", response[0])\n",
        "\n",
        "# Call the interactive conversation function to start chatting\n",
        "interactive_conversation()\n"
      ],
      "metadata": {
        "colab": {
          "base_uri": "https://localhost:8080/"
        },
        "outputId": "0f2bf76f-0eb3-47d0-9bd7-0e925d82b664",
        "id": "9n4_bEbPTxaR"
      },
      "execution_count": 4,
      "outputs": [
        {
          "output_type": "stream",
          "name": "stdout",
          "text": [
            "Chatbot: Hi! How can I assist you today? (type 'exit' to end)\n",
            "You: hello\n",
            "Chatbot: Hello!\n",
            "You: joke\n",
            "Chatbot: Sure, here's a joke: Why did the chicken cross the road? To get to the other side!\n",
            "You: name\n",
            "Chatbot: I am a chatbot created by Codsoft AI Intern, Viraj N. Bhutada.\n",
            "You: exit\n",
            "Chatbot: Goodbye! Have a great day!\n",
            "Chatbot: If you want to chat again, type 'start'. If you want to exit, type 'exit'.\n",
            "You: start\n",
            "Chatbot: Let's start again!\n",
            "You: exit\n",
            "Chatbot: Goodbye! Have a great day!\n",
            "Chatbot: If you want to chat again, type 'start'. If you want to exit, type 'exit'.\n",
            "You: exit\n",
            "Chatbot: Thank you for chatting with me! I hope I was able to assist you. Have a great day!\n"
          ]
        }
      ]
    },
    {
      "cell_type": "markdown",
      "source": [
        "# Conclusion:\n",
        "In conclusion, this project provided a hands-on experience in building a basic chatbot using rule-based techniques. By understanding user queries and providing relevant responses, this project enhances my understanding of natural language processing and conversation flow in the context of chatbots."
      ],
      "metadata": {
        "id": "Czq5nINCAurI"
      }
    },
    {
      "cell_type": "markdown",
      "source": [
        "I extend my sincere gratitude for the invaluable opportunity to undertake this project independently. This experience has not only enriched my understanding of natural language processing and chatbot development but also allowed me to explore my capabilities. Thank you CODSOFT for making this learning experience truly exceptional.\n"
      ],
      "metadata": {
        "id": "QSnweS8OA0d4"
      }
    }
  ]
}