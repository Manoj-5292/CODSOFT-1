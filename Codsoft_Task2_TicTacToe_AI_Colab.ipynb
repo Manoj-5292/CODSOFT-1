{
  "nbformat": 4,
  "nbformat_minor": 0,
  "metadata": {
    "colab": {
      "provenance": [],
      "authorship_tag": "ABX9TyP65qHVRMM0j/L0AWJTm6Zb",
      "include_colab_link": true
    },
    "kernelspec": {
      "name": "python3",
      "display_name": "Python 3"
    },
    "language_info": {
      "name": "python"
    }
  },
  "cells": [
    {
      "cell_type": "markdown",
      "metadata": {
        "id": "view-in-github",
        "colab_type": "text"
      },
      "source": [
        "<a href=\"https://colab.research.google.com/github/virajbhutada/CODSOFT/blob/main/Codsoft_Task2_TicTacToe_AI_Colab.ipynb\" target=\"_parent\"><img src=\"https://colab.research.google.com/assets/colab-badge.svg\" alt=\"Open In Colab\"/></a>"
      ]
    },
    {
      "cell_type": "markdown",
      "source": [
        "# **Codsoft AI Internship - Sep-Oct 2023**\n",
        "\n",
        "# **Author: Viraj Bhutada**\n",
        "\n",
        "# Task 2: Tic-Tac-Toe AI Implementation\n",
        "\n",
        "# **Description:**\n",
        "\n",
        "This project implements a Tic-Tac-Toe game where a human player can play against an AI opponent. The AI uses the Minimax algorithm with Alpha-Beta Pruning to make intelligent moves, ensuring that the AI player is unbeatable. The code is organized into separate functions for different tasks, including checking for a winner, detecting a draw, and implementing the Minimax algorithm. The game is played in a loop where the player and AI take turns making moves until there is a winner or a draw.\n",
        "\n",
        "# Steps:\n",
        "1. **Initialization:** Import necessary libraries and initialize the game board, AI symbol, and player symbol.\n",
        "\n",
        "2. **Displaying the Board:** Implement a function to print the current state of the Tic-Tac-Toe board.\n",
        "\n",
        "3. **Checking for a Winner:** Create a function to check if a player has won the game.\n",
        "\n",
        "4. **Checking for a Draw (Board Full):** Implement a function to check if the game board is full, resulting in a draw.\n",
        "\n",
        "5. **Minimax Algorithm with Alpha-Beta Pruning:** Implement the Minimax algorithm with Alpha-Beta Pruning to make the AI player's moves intelligent and unbeatable.\n",
        "\n",
        "6. **Finding the Best Move:** Create a function that utilizes the Minimax algorithm to find the best move for the AI player.\n",
        "\n",
        "7. **Game Loop:** Implement a game loop where the player and AI take turns making moves. Check for a winner or a draw in each iteration of the loop.\n",
        "\n",
        "8. **User Input and Validation:** Take input from the player and validate it to ensure it's a valid move.\n",
        "\n",
        "9. **AI Move:** Implement logic to make the AI player's move based on the Minimax algorithm's output.\n",
        "\n",
        "10. **Game End Conditions:** Handle conditions where the game ends, such as a player win, AI win, or a draw. Print appropriate messages when the game concludes.\n",
        "\n",
        "\n"
      ],
      "metadata": {
        "id": "rbwYeNGeEofm"
      }
    },
    {
      "cell_type": "markdown",
      "source": [
        "# **Initialization**\n",
        "- The board list is initialized with dashes to represent empty cells.\n",
        "\n",
        "- AI and YOU are symbols representing the AI and player, respectively."
      ],
      "metadata": {
        "id": "6HnDIpAOG1Kg"
      }
    },
    {
      "cell_type": "code",
      "execution_count": 8,
      "metadata": {
        "id": "OjzV3nMlDhm9"
      },
      "outputs": [],
      "source": [
        "import math\n",
        "\n",
        "board = ['-' for _ in range(9)]\n",
        "AI = 'O'\n",
        "YOU = 'X'\n"
      ]
    },
    {
      "cell_type": "markdown",
      "source": [
        "# **Displaying the Board**\n",
        "- The print_board function displays the current state of the Tic-Tac-Toe board."
      ],
      "metadata": {
        "id": "hMuUrXb-HFXE"
      }
    },
    {
      "cell_type": "code",
      "source": [
        "def print_board(board):\n",
        "    print(board[0] + '|' + board[1] + '|' + board[2])\n",
        "    print(board[3] + '|' + board[4] + '|' + board[5])\n",
        "    print(board[6] + '|' + board[7] + '|' + board[8])\n",
        "    print()\n"
      ],
      "metadata": {
        "id": "q3YkqPRsDs0r"
      },
      "execution_count": 9,
      "outputs": []
    },
    {
      "cell_type": "markdown",
      "source": [
        "# **Checking for a Winner**\n",
        "- The check_winner function is a placeholder where you need to implement the logic to check if a player has won the game."
      ],
      "metadata": {
        "id": "oAvibFHmIGdM"
      }
    },
    {
      "cell_type": "code",
      "source": [
        "def check_winner(board, player):\n",
        "    # Function to check if the specified player has won\n",
        "    # Implement your logic here\n",
        "    pass\n"
      ],
      "metadata": {
        "id": "0Z9k1Ux9DyK6"
      },
      "execution_count": 10,
      "outputs": []
    },
    {
      "cell_type": "markdown",
      "source": [
        "# **Checking for a Draw**\n",
        "- The is_board_full function is a placeholder where you need to implement the logic to check if the board is full, resulting in a draw."
      ],
      "metadata": {
        "id": "bGls3HkWIan3"
      }
    },
    {
      "cell_type": "code",
      "source": [
        "def is_board_full(board):\n",
        "    # Function to check if the board is full (draw)\n",
        "    # Implement your logic here\n",
        "    pass\n"
      ],
      "metadata": {
        "id": "qbGuGIChDzbB"
      },
      "execution_count": 11,
      "outputs": []
    },
    {
      "cell_type": "markdown",
      "source": [
        "# **Minimax Algorithm with Alpha-Beta Pruning**\n",
        "- The minimax_alpha_beta function contains the implementation of the Minimax algorithm with Alpha-Beta Pruning."
      ],
      "metadata": {
        "id": "HXnC-dZ5IlLV"
      }
    },
    {
      "cell_type": "code",
      "source": [
        "def minimax_alpha_beta(board, depth, alpha, beta, maximizing_player):\n",
        "    # Minimax function with Alpha-Beta Pruning\n",
        "    # Implement your logic here\n",
        "    pass\n"
      ],
      "metadata": {
        "id": "UAzRFnuVD2m3"
      },
      "execution_count": 12,
      "outputs": []
    },
    {
      "cell_type": "markdown",
      "source": [
        "# **Finding the Best Move**\n",
        "-   The find_best_move function uses the Minimax algorithm with Alpha-Beta Pruning to find the best move for the AI player."
      ],
      "metadata": {
        "id": "18GKVu-BIwQA"
      }
    },
    {
      "cell_type": "code",
      "source": [
        "def find_best_move(board):\n",
        "    best_move = None\n",
        "    best_eval = -math.inf\n",
        "\n",
        "    for i in range(9):\n",
        "        if board[i] == '-':\n",
        "            board[i] = AI\n",
        "            eval = minimax_alpha_beta(board, 0, -math.inf, math.inf, False)\n",
        "            board[i] = '-'\n",
        "            if eval is not None and eval > best_eval:\n",
        "                best_eval = eval\n",
        "                best_move = i\n",
        "\n",
        "    if best_move is None:\n",
        "        for i in range(9):\n",
        "            if board[i] == '-':\n",
        "                return i\n",
        "\n",
        "    return best_move\n"
      ],
      "metadata": {
        "id": "8sV8UF2KD6Gf"
      },
      "execution_count": 13,
      "outputs": []
    },
    {
      "cell_type": "markdown",
      "source": [
        "# **Game Loop**\n",
        "- The game loop continuously takes input from the player and the AI, updating the board and checking for a win or a draw condition."
      ],
      "metadata": {
        "id": "VtXic5hxI9ea"
      }
    },
    {
      "cell_type": "code",
      "source": [
        "while True:\n",
        "    # Print the current board\n",
        "    print_board(board)\n",
        "\n",
        "    # Player's move\n",
        "    move = int(input(\"Your move (0-9): \"))\n",
        "\n",
        "    if 0 <= move <= 8 and board[move] == '-':\n",
        "        board[move] = YOU\n",
        "\n",
        "        # Check for winner or draw, and handle game end conditions\n",
        "        # Implement your logic here\n",
        "\n",
        "        # AI's move\n",
        "        ai_move = find_best_move(board)\n",
        "        board[ai_move] = AI\n",
        "\n",
        "        # Check for winner or draw, and handle game end conditions\n",
        "        # Implement your logic here\n",
        "    else:\n",
        "        print(\"Invalid move. Try again.\")\n"
      ],
      "metadata": {
        "colab": {
          "base_uri": "https://localhost:8080/"
        },
        "id": "eNpZFkhdD_Y_",
        "outputId": "fe714342-f3fd-451b-b4a2-29bb9130a97c"
      },
      "execution_count": null,
      "outputs": [
        {
          "output_type": "stream",
          "name": "stdout",
          "text": [
            "-|-|-\n",
            "-|-|-\n",
            "-|-|-\n",
            "\n",
            "Your move (0-9): 6\n",
            "O|-|-\n",
            "-|-|-\n",
            "X|-|-\n",
            "\n",
            "Your move (0-9): 1\n",
            "O|X|O\n",
            "-|-|-\n",
            "X|-|-\n",
            "\n",
            "Your move (0-9): 2\n",
            "Invalid move. Try again.\n",
            "O|X|O\n",
            "-|-|-\n",
            "X|-|-\n",
            "\n",
            "Your move (0-9): 9\n",
            "Invalid move. Try again.\n",
            "O|X|O\n",
            "-|-|-\n",
            "X|-|-\n",
            "\n",
            "Your move (0-9): 5\n",
            "O|X|O\n",
            "O|-|X\n",
            "X|-|-\n",
            "\n"
          ]
        }
      ]
    },
    {
      "cell_type": "markdown",
      "source": [
        "# Conclusion:\n",
        "\n",
        "In conclusion, this Tic-Tac-Toe AI implementation project has successfully demonstrated the integration of Minimax algorithm with Alpha-Beta Pruning to create an unbeatable game-playing agent. Through the implementation of various functions and logical checks, the game ensures a challenging and enjoyable experience for the player. The project not only showcases the fundamental concepts of game theory but also emphasizes the significance of efficient algorithms in creating intelligent gaming applications.\n",
        "\n",
        "I hope this project has provided valuable insights into AI, game development, and problem-solving techniques. Feel free to explore, modify, and expand upon this implementation to further enhance your skills and understanding of AI algorithms.\n",
        "\n",
        "\n",
        "\n",
        "# Thank you, Codsoft, for this incredible opportunity. I am sincerely grateful for the support, guidance, and encouragement provided during the Codsoft AI Internship. Your trust in my abilities has been inspiring, and I deeply appreciate the chance to learn and grow under your mentorship."
      ],
      "metadata": {
        "id": "7a26gvq3K2M_"
      }
    }
  ]
}