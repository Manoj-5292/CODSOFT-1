{
  "nbformat": 4,
  "nbformat_minor": 0,
  "metadata": {
    "colab": {
      "provenance": [],
      "authorship_tag": "ABX9TyNbbR0epl8e0CcbIiW/20qi",
      "include_colab_link": true
    },
    "kernelspec": {
      "name": "python3",
      "display_name": "Python 3"
    },
    "language_info": {
      "name": "python"
    }
  },
  "cells": [
    {
      "cell_type": "markdown",
      "metadata": {
        "id": "view-in-github",
        "colab_type": "text"
      },
      "source": [
        "<a href=\"https://colab.research.google.com/github/virajbhutada/CODSOFT/blob/main/Codsoft_Task3_Recommendation_System(movies).ipynb\" target=\"_parent\"><img src=\"https://colab.research.google.com/assets/colab-badge.svg\" alt=\"Open In Colab\"/></a>"
      ]
    },
    {
      "cell_type": "markdown",
      "source": [
        "# **Codsoft AI Internship - Sep-Oct 2023**\n",
        "# **Author: Viraj Bhutada**\n",
        "\n",
        "# Task 3: Building a Content-Based Movie Recommendation System\n",
        "**Description**: This project involves creating a content-based movie recommendation system. The system utilizes natural language processing and machine learning techniques to recommend movies to users based on their preferences. Unlike collaborative filtering, which relies on user-item interactions, content-based filtering leverages movie features such as genres, language, popularity, runtime, votes, and vote counts to make personalized recommendations."
      ],
      "metadata": {
        "id": "99TG6SDlb6ED"
      }
    },
    {
      "cell_type": "markdown",
      "source": [
        "# Step 1: Import Libraries\n",
        "-    Import necessary libraries for data manipulation, feature extraction, and similarity calculations."
      ],
      "metadata": {
        "id": "edpyeVxRdm_4"
      }
    },
    {
      "cell_type": "code",
      "execution_count": 1,
      "metadata": {
        "id": "tNKHzjPCZQqf"
      },
      "outputs": [],
      "source": [
        "# Import necessary libraries\n",
        "import pandas as pd\n",
        "from sklearn.feature_extraction.text import TfidfVectorizer\n",
        "from sklearn.metrics.pairwise import cosine_similarity\n"
      ]
    },
    {
      "cell_type": "markdown",
      "source": [
        "# Step 2: Loading and Preparing the Dataset\n",
        "- Load the movie dataset from a provided URL. Select relevant features for content-based filtering and handle missing values."
      ],
      "metadata": {
        "id": "FGwuJTn6d-WP"
      }
    },
    {
      "cell_type": "code",
      "source": [
        "# Load the dataset\n",
        "df = pd.read_csv(r'https://raw.githubusercontent.com/YBI-Foundation/Dataset/main/Movies%20Recommendation.csv')\n",
        "\n",
        "# Features for content-based filtering\n",
        "features = ['Movie_Genre', 'Movie_Language', 'Movie_Popularity', 'Movie_Runtime', 'Movie_Vote', 'Movie_Vote_Count']\n",
        "\n",
        "# Fill NaN values with empty strings or zeros for numerical columns\n",
        "df[features] = df[features].fillna('')  # For categorical features\n",
        "df['Movie_Vote_Count'] = df['Movie_Vote_Count'].fillna(0)  # For numerical features\n"
      ],
      "metadata": {
        "id": "TOvgTYHQauXC"
      },
      "execution_count": 2,
      "outputs": []
    },
    {
      "cell_type": "markdown",
      "source": [
        "# Step 3: Combining Features into a Single Column\n",
        "- Combine selected features into a single column for vectorization."
      ],
      "metadata": {
        "id": "xpD1OvCXeXC-"
      }
    },
    {
      "cell_type": "code",
      "source": [
        "# Combine features into a single column\n",
        "df['combined_features'] = df.apply(lambda row: ' '.join([str(row[feature]) for feature in features]), axis=1)\n"
      ],
      "metadata": {
        "id": "KrMu_UrBa6lU"
      },
      "execution_count": 3,
      "outputs": []
    },
    {
      "cell_type": "markdown",
      "source": [
        "# Step 4: Creating TF-IDF Matrix\n",
        "- Utilize TF-IDF vectorization to convert text data into numerical vectors."
      ],
      "metadata": {
        "id": "b9aohTFDehgF"
      }
    },
    {
      "cell_type": "code",
      "source": [
        "# Create a TF-IDF matrix based on combined features\n",
        "tfidf_vectorizer = TfidfVectorizer(stop_words='english')\n",
        "tfidf_matrix = tfidf_vectorizer.fit_transform(df['combined_features'])\n"
      ],
      "metadata": {
        "id": "ncue-BFfbB2I"
      },
      "execution_count": 4,
      "outputs": []
    },
    {
      "cell_type": "markdown",
      "source": [
        "# Step 5: Calculating Cosine Similarity\n",
        "-  Compute cosine similarity between movies based on their features, forming a similarity matrix."
      ],
      "metadata": {
        "id": "bzubxSCZe6IV"
      }
    },
    {
      "cell_type": "code",
      "source": [
        "# Calculate cosine similarity between movies based on features\n",
        "movie_similarity = cosine_similarity(tfidf_matrix)\n",
        "\n",
        "# Create a DataFrame with movie similarity values\n",
        "movie_similarity_df = pd.DataFrame(movie_similarity, index=df['Movie_ID'], columns=df['Movie_ID'])\n"
      ],
      "metadata": {
        "id": "Mn4aGCsSbG4W"
      },
      "execution_count": 5,
      "outputs": []
    },
    {
      "cell_type": "markdown",
      "source": [
        "# Step 6: Content-Based Recommendation Function\n",
        "-  Define a function to get movie recommendations using content-based filtering.\n",
        "\n"
      ],
      "metadata": {
        "id": "7Cr-JhecfB3Q"
      }
    },
    {
      "cell_type": "code",
      "source": [
        "# Function to get movie recommendations using content-based filtering\n",
        "def get_content_based_recommendations(movie_id, num_recommendations=5):\n",
        "    similar_movies = movie_similarity_df[movie_id].sort_values(ascending=False)[1:num_recommendations+1]\n",
        "    recommended_movies = df[df['Movie_ID'].isin(similar_movies.index)][['Movie_ID', 'Movie_Title']]\n",
        "    return recommended_movies\n"
      ],
      "metadata": {
        "id": "FPHDRnK8bMlp"
      },
      "execution_count": 6,
      "outputs": []
    },
    {
      "cell_type": "markdown",
      "source": [
        "# Step 7: Example Usage of Content-Based Filtering\n",
        "-  Provide an example of how to use the content-based filtering recommendation system for a specific movie."
      ],
      "metadata": {
        "id": "ky0d721jfNZ2"
      }
    },
    {
      "cell_type": "code",
      "source": [
        "# Example usage of content-based filtering recommendation system\n",
        "movie_id = 1\n",
        "content_based_recommendations = get_content_based_recommendations(movie_id)\n",
        "print(f\"Content-Based Filtering Recommendations for Movie {movie_id}:\")\n",
        "print(content_based_recommendations)\n"
      ],
      "metadata": {
        "colab": {
          "base_uri": "https://localhost:8080/"
        },
        "id": "NTd9-MpQbVPU",
        "outputId": "04309d6c-33f7-4ff8-e21d-73d049e1e9d4"
      },
      "execution_count": 7,
      "outputs": [
        {
          "output_type": "stream",
          "name": "stdout",
          "text": [
            "Content-Based Filtering Recommendations for Movie 1:\n",
            "      Movie_ID                    Movie_Title\n",
            "65          66  Star Trek: The Motion Picture\n",
            "393        394                  Cool Runnings\n",
            "1049      1050               Punch-Drunk Love\n",
            "1831      1832                       I Am Sam\n",
            "3383      3385                    Crazy Stone\n"
          ]
        }
      ]
    },
    {
      "cell_type": "markdown",
      "source": [
        "# Conclusion:\n",
        "This content-based movie recommendation system illustrates the effectiveness of leveraging movie metadata for personalized suggestions. By transforming textual features into numerical vectors and calculating similarities, the system lays the groundwork for advanced recommendation engines. The project not only demonstrates machine learning implementation but also emphasizes the potential of intelligent systems in enhancing user experiences. Users can now find movies that match their preferences, enhancing their overall satisfaction and engagement.\n",
        "\n",
        "\n",
        "\n",
        "\n",
        "\n"
      ],
      "metadata": {
        "id": "trbmF8wjgtL9"
      }
    },
    {
      "cell_type": "markdown",
      "source": [
        "# Thank You Codsoft Team\n",
        "I am immensely grateful for the invaluable opportunity to be a part of Codsoft AI Internship. Your support have been instrumental in my growth. Thank you for this enriching experience. The knowledge and skills acquired during this internship will undoubtedly shape my future endeavors in the field of artificial intelligence. Thank you once again for this remarkable journey."
      ],
      "metadata": {
        "id": "W2d6vpErhTqu"
      }
    }
  ]
}